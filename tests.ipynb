{
 "cells": [
  {
   "cell_type": "code",
   "execution_count": 20,
   "id": "08a8e6a8-2134-4f07-81c9-3742191095e3",
   "metadata": {},
   "outputs": [],
   "source": [
    "import datasets\n",
    "import pandas as pd"
   ]
  },
  {
   "cell_type": "code",
   "execution_count": 2,
   "id": "278cbc71-e199-4946-bb7a-6755396e4c23",
   "metadata": {},
   "outputs": [],
   "source": [
    "data = datasets.load_dataset(\"ibm-research/tab_fact\")"
   ]
  },
  {
   "cell_type": "code",
   "execution_count": 45,
   "id": "ca95a1a9-43b8-4b96-8ddd-92b0c675d910",
   "metadata": {},
   "outputs": [
    {
     "data": {
      "text/plain": [
       "{'id': 0,\n",
       " 'table': {'id': '2-15401676-3.html.csv',\n",
       "  'header': ['date', 'result', 'score', 'brazil scorers', 'competition'],\n",
       "  'rows': [['may 11 , 1919',\n",
       "    'w',\n",
       "    '6 - 0',\n",
       "    'friedenreich (3) , neco (2) , haroldo',\n",
       "    'south american championship'],\n",
       "   ['may 18 , 1919',\n",
       "    'w',\n",
       "    '3 - 1',\n",
       "    'heitor , amílcar , millon',\n",
       "    'south american championship'],\n",
       "   ['may 26 , 1919', 'd', '2 - 2', 'neco (2)', 'south american championship'],\n",
       "   ['may 29 , 1919',\n",
       "    'w',\n",
       "    '1 - 0',\n",
       "    'friedenreich',\n",
       "    'south american championship'],\n",
       "   ['june 1 , 1919',\n",
       "    'd',\n",
       "    '3 - 3',\n",
       "    'haroldo , arlindo (2)',\n",
       "    'taça roberto cherry']],\n",
       "  'caption': '1919 in brazilian football'},\n",
       " 'statement': '4 of the 5 game be for the south american championship',\n",
       " 'label': 1}"
      ]
     },
     "execution_count": 45,
     "metadata": {},
     "output_type": "execute_result"
    }
   ],
   "source": [
    "data['train'][1]"
   ]
  },
  {
   "cell_type": "code",
   "execution_count": 47,
   "id": "c4847cc4-0faa-469f-8cb8-ed5c87a24412",
   "metadata": {},
   "outputs": [
    {
     "data": {
      "text/html": [
       "<div>\n",
       "<style scoped>\n",
       "    .dataframe tbody tr th:only-of-type {\n",
       "        vertical-align: middle;\n",
       "    }\n",
       "\n",
       "    .dataframe tbody tr th {\n",
       "        vertical-align: top;\n",
       "    }\n",
       "\n",
       "    .dataframe thead th {\n",
       "        text-align: right;\n",
       "    }\n",
       "</style>\n",
       "<table border=\"1\" class=\"dataframe\">\n",
       "  <thead>\n",
       "    <tr style=\"text-align: right;\">\n",
       "      <th></th>\n",
       "      <th>date</th>\n",
       "      <th>result</th>\n",
       "      <th>score</th>\n",
       "      <th>brazil scorers</th>\n",
       "      <th>competition</th>\n",
       "    </tr>\n",
       "  </thead>\n",
       "  <tbody>\n",
       "    <tr>\n",
       "      <th>0</th>\n",
       "      <td>may 11 , 1919</td>\n",
       "      <td>w</td>\n",
       "      <td>6 - 0</td>\n",
       "      <td>friedenreich (3) , neco (2) , haroldo</td>\n",
       "      <td>south american championship</td>\n",
       "    </tr>\n",
       "    <tr>\n",
       "      <th>1</th>\n",
       "      <td>may 18 , 1919</td>\n",
       "      <td>w</td>\n",
       "      <td>3 - 1</td>\n",
       "      <td>heitor , amílcar , millon</td>\n",
       "      <td>south american championship</td>\n",
       "    </tr>\n",
       "    <tr>\n",
       "      <th>2</th>\n",
       "      <td>may 26 , 1919</td>\n",
       "      <td>d</td>\n",
       "      <td>2 - 2</td>\n",
       "      <td>neco (2)</td>\n",
       "      <td>south american championship</td>\n",
       "    </tr>\n",
       "    <tr>\n",
       "      <th>3</th>\n",
       "      <td>may 29 , 1919</td>\n",
       "      <td>w</td>\n",
       "      <td>1 - 0</td>\n",
       "      <td>friedenreich</td>\n",
       "      <td>south american championship</td>\n",
       "    </tr>\n",
       "    <tr>\n",
       "      <th>4</th>\n",
       "      <td>june 1 , 1919</td>\n",
       "      <td>d</td>\n",
       "      <td>3 - 3</td>\n",
       "      <td>haroldo , arlindo (2)</td>\n",
       "      <td>taça roberto cherry</td>\n",
       "    </tr>\n",
       "  </tbody>\n",
       "</table>\n",
       "</div>"
      ],
      "text/plain": [
       "            date result  score                         brazil scorers  \\\n",
       "0  may 11 , 1919      w  6 - 0  friedenreich (3) , neco (2) , haroldo   \n",
       "1  may 18 , 1919      w  3 - 1              heitor , amílcar , millon   \n",
       "2  may 26 , 1919      d  2 - 2                               neco (2)   \n",
       "3  may 29 , 1919      w  1 - 0                           friedenreich   \n",
       "4  june 1 , 1919      d  3 - 3                  haroldo , arlindo (2)   \n",
       "\n",
       "                   competition  \n",
       "0  south american championship  \n",
       "1  south american championship  \n",
       "2  south american championship  \n",
       "3  south american championship  \n",
       "4          taça roberto cherry  "
      ]
     },
     "execution_count": 47,
     "metadata": {},
     "output_type": "execute_result"
    }
   ],
   "source": [
    "def array_to_df(headers: list, rows: list) -> pd.DataFrame:\n",
    "    sample = pd.DataFrame(data=rows,columns=headers) \n",
    "    return sample\n",
    "    \n",
    "headers, rows = data['train'][1]['table']['header'], data['train'][1]['table']['rows']\n",
    "test = array_to_df(headers, rows)\n"
   ]
  },
  {
   "cell_type": "code",
   "execution_count": 65,
   "id": "1df24d21-808a-404a-bb69-99880197aa73",
   "metadata": {},
   "outputs": [],
   "source": [
    "import requests\n",
    "\n",
    "def convert_df_to_html(df: pd.DataFrame) -> str:\n",
    "    return df.to_html()\n",
    "\n",
    "def convert_html_to_list_table(html: str) -> str:\n",
    "    json_data = {\n",
    "        \"html\": test_rst,\n",
    "    }\n",
    "\n",
    "    response = requests.post(\n",
    "        \"http://5.35.3.148:16000/convert\",\n",
    "        json=json_data,\n",
    "        auth=(\"parsing\", \"dV9lriXNjujcOur4uy6AfuWzcveaHTky\"),\n",
    "    )\n",
    "    return response.json()[\"markdown\"]\n"
   ]
  },
  {
   "cell_type": "code",
   "execution_count": 68,
   "id": "570e9ac6-01aa-4c9d-80e3-7e14659331e7",
   "metadata": {},
   "outputs": [
    {
     "data": {
      "text/plain": [
       "'.. list-table::\\n   :header-rows: 1\\n\\n   * - \\n     - date\\n     - result\\n     - score\\n     - brazil scorers\\n     - competition\\n   * - 0\\n     - may 11 , 1919\\n     - w\\n     - 6 - 0\\n     - friedenreich (3) , neco (2) , haroldo\\n     - south american championship\\n   * - 1\\n     - may 18 , 1919\\n     - w\\n     - 3 - 1\\n     - heitor , amílcar , millon\\n     - south american championship\\n   * - 2\\n     - may 26 , 1919\\n     - d\\n     - 2 - 2\\n     - neco (2)\\n     - south american championship\\n   * - 3\\n     - may 29 , 1919\\n     - w\\n     - 1 - 0\\n     - friedenreich\\n     - south american championship\\n   * - 4\\n     - june 1 , 1919\\n     - d\\n     - 3 - 3\\n     - haroldo , arlindo (2)\\n     - taça roberto cherry'"
      ]
     },
     "execution_count": 68,
     "metadata": {},
     "output_type": "execute_result"
    }
   ],
   "source": [
    "html_format = convert_df_to_html(test)\n",
    "rst_format = convert_html_to_list_table(html_format)\n",
    "rst_format"
   ]
  }
 ],
 "metadata": {
  "kernelspec": {
   "display_name": "Python 3 (ipykernel)",
   "language": "python",
   "name": "python3"
  },
  "language_info": {
   "codemirror_mode": {
    "name": "ipython",
    "version": 3
   },
   "file_extension": ".py",
   "mimetype": "text/x-python",
   "name": "python",
   "nbconvert_exporter": "python",
   "pygments_lexer": "ipython3",
   "version": "3.12.3"
  }
 },
 "nbformat": 4,
 "nbformat_minor": 5
}
