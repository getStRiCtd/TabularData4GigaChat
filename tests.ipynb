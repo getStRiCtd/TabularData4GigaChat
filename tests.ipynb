{
 "cells": [
  {
   "cell_type": "code",
   "execution_count": 1,
   "id": "1af8d93a-7e38-47bc-b79d-09c294c35ea8",
   "metadata": {},
   "outputs": [],
   "source": [
    "import asyncio \n",
    "\n",
    "from src.llm.gigachat_class import GigaChat\n",
    "from src.llm.prompts import TAB_FACT_PROMPT, WIKITQ_PROMPT\n",
    "\n",
    "from src.utils.dataset_loader import *\n",
    "from src.utils.table_formatters import *"
   ]
  },
  {
   "cell_type": "markdown",
   "id": "ef92eb29-bd47-4a65-879b-b56f6a402843",
   "metadata": {},
   "source": [
    "### Model"
   ]
  },
  {
   "cell_type": "code",
   "execution_count": 2,
   "id": "383ee9b0-219f-4793-a9b6-eafe1c6edcd7",
   "metadata": {},
   "outputs": [
    {
     "name": "stderr",
     "output_type": "stream",
     "text": [
      "/media/ntfs_disk/Pycharn/TabularData4LLM/.venv/lib/python3.12/site-packages/urllib3/connectionpool.py:1097: InsecureRequestWarning: Unverified HTTPS request is being made to host 'ngw.devices.sberbank.ru'. Adding certificate verification is strongly advised. See: https://urllib3.readthedocs.io/en/latest/advanced-usage.html#tls-warnings\n",
      "  warnings.warn(\n"
     ]
    }
   ],
   "source": [
    "giga = GigaChat()"
   ]
  },
  {
   "cell_type": "markdown",
   "id": "ee11e509-b793-44ee-815e-a3bd70d3df45",
   "metadata": {},
   "source": [
    "### Data"
   ]
  },
  {
   "cell_type": "code",
   "execution_count": 3,
   "id": "278cbc71-e199-4946-bb7a-6755396e4c23",
   "metadata": {},
   "outputs": [],
   "source": [
    "async def get_formats(data_sample, mode):\n",
    "    headers, rows = data_sample['table']['header'], data_sample['table']['rows']\n",
    "    df_ = array_to_df(headers, rows)\n",
    "    html = convert_df_to_html(df_)\n",
    "    rst = await convert_html_to_list_table(html)\n",
    "    if mode == 'html':\n",
    "        return html\n",
    "    else:\n",
    "        return rst"
   ]
  },
  {
   "cell_type": "markdown",
   "id": "c76ebd77-39e5-4266-93f0-1940f1e9477d",
   "metadata": {},
   "source": [
    "#### Tabfact"
   ]
  },
  {
   "cell_type": "code",
   "execution_count": 4,
   "id": "37853c6f-feba-451d-9c92-9b04ba01ea17",
   "metadata": {},
   "outputs": [],
   "source": [
    "tabfact_data = load_tab_fact()['train']\n",
    "fact_dicts = []\n",
    "for i in tabfact_data:\n",
    "    d = {}\n",
    "    d.update(i)\n",
    "    fact_dicts.append(d)\n",
    "\n",
    "human_message_template = \"\"\"\n",
    "Таблица: {table}\n",
    "Утверждение: {statement}\n",
    "\"\"\"\n",
    "dataset = 'tabfact'\n",
    "\n",
    "CHOSEN_PROMPT = TAB_FACT_PROMPT"
   ]
  },
  {
   "cell_type": "markdown",
   "id": "d5604259-1d30-41bb-8bce-9220038e6db3",
   "metadata": {},
   "source": [
    "#### WikiTQ"
   ]
  },
  {
   "cell_type": "code",
   "execution_count": 5,
   "id": "6d7e60fd-bee8-46ed-934b-03298fb3d130",
   "metadata": {},
   "outputs": [],
   "source": [
    "wikitq_data = load_wikitq()['train']\n",
    "fact_dicts = []\n",
    "for i in wikitq_data:\n",
    "    d = {}\n",
    "    d.update(i)\n",
    "    d['statement'] = d['question']\n",
    "    d['label'] = d['answers'][0]\n",
    "    fact_dicts.append(d)\n",
    "\n",
    "human_message_template = \"\"\"\n",
    "Таблица: {table}\n",
    "Вопрос: {statement}\n",
    "\"\"\"\n",
    "dataset = 'wikitq'\n",
    "\n",
    "CHOSEN_PROMPT = WIKITQ_PROMPT"
   ]
  },
  {
   "cell_type": "markdown",
   "id": "1f963834-f3e6-4a50-8e56-933684084f9e",
   "metadata": {},
   "source": [
    "### Eval"
   ]
  },
  {
   "cell_type": "code",
   "execution_count": 7,
   "id": "9a3b803a-aaa1-45f8-a2b0-04e9e254676f",
   "metadata": {},
   "outputs": [
    {
     "name": "stderr",
     "output_type": "stream",
     "text": [
      " 59%|███████████████████████████████████████████████████████████████████████████████████▏                                                         | 59/100 [11:27<06:49, 10.00s/it]"
     ]
    },
    {
     "name": "stdout",
     "output_type": "stream",
     "text": [
      "An error occurred in Giga Module, f: async_ask_giga, e: 'choices'\n"
     ]
    },
    {
     "name": "stderr",
     "output_type": "stream",
     "text": [
      "/media/ntfs_disk/Pycharn/TabularData4LLM/.venv/lib/python3.12/site-packages/urllib3/connectionpool.py:1097: InsecureRequestWarning: Unverified HTTPS request is being made to host 'ngw.devices.sberbank.ru'. Adding certificate verification is strongly advised. See: https://urllib3.readthedocs.io/en/latest/advanced-usage.html#tls-warnings\n",
      "  warnings.warn(\n"
     ]
    },
    {
     "name": "stdout",
     "output_type": "stream",
     "text": [
      "An error occurred in Giga Module, f: async_ask_giga, e: 'choices'\n"
     ]
    },
    {
     "name": "stderr",
     "output_type": "stream",
     "text": [
      "/media/ntfs_disk/Pycharn/TabularData4LLM/.venv/lib/python3.12/site-packages/urllib3/connectionpool.py:1097: InsecureRequestWarning: Unverified HTTPS request is being made to host 'ngw.devices.sberbank.ru'. Adding certificate verification is strongly advised. See: https://urllib3.readthedocs.io/en/latest/advanced-usage.html#tls-warnings\n",
      "  warnings.warn(\n"
     ]
    },
    {
     "name": "stdout",
     "output_type": "stream",
     "text": [
      "An error occurred in Giga Module, f: async_ask_giga, e: 'choices'\n"
     ]
    },
    {
     "name": "stderr",
     "output_type": "stream",
     "text": [
      "/media/ntfs_disk/Pycharn/TabularData4LLM/.venv/lib/python3.12/site-packages/urllib3/connectionpool.py:1097: InsecureRequestWarning: Unverified HTTPS request is being made to host 'ngw.devices.sberbank.ru'. Adding certificate verification is strongly advised. See: https://urllib3.readthedocs.io/en/latest/advanced-usage.html#tls-warnings\n",
      "  warnings.warn(\n"
     ]
    },
    {
     "name": "stdout",
     "output_type": "stream",
     "text": [
      "An error occurred in Giga Module, f: async_ask_giga, e: 'choices'\n"
     ]
    },
    {
     "name": "stderr",
     "output_type": "stream",
     "text": [
      "/media/ntfs_disk/Pycharn/TabularData4LLM/.venv/lib/python3.12/site-packages/urllib3/connectionpool.py:1097: InsecureRequestWarning: Unverified HTTPS request is being made to host 'ngw.devices.sberbank.ru'. Adding certificate verification is strongly advised. See: https://urllib3.readthedocs.io/en/latest/advanced-usage.html#tls-warnings\n",
      "  warnings.warn(\n"
     ]
    },
    {
     "name": "stdout",
     "output_type": "stream",
     "text": [
      "An error occurred in Giga Module, f: async_ask_giga, e: 'choices'\n"
     ]
    },
    {
     "name": "stderr",
     "output_type": "stream",
     "text": [
      "/media/ntfs_disk/Pycharn/TabularData4LLM/.venv/lib/python3.12/site-packages/urllib3/connectionpool.py:1097: InsecureRequestWarning: Unverified HTTPS request is being made to host 'ngw.devices.sberbank.ru'. Adding certificate verification is strongly advised. See: https://urllib3.readthedocs.io/en/latest/advanced-usage.html#tls-warnings\n",
      "  warnings.warn(\n"
     ]
    },
    {
     "name": "stdout",
     "output_type": "stream",
     "text": [
      "An error occurred in Giga Module, f: async_ask_giga, e: 'choices'\n"
     ]
    },
    {
     "name": "stderr",
     "output_type": "stream",
     "text": [
      "/media/ntfs_disk/Pycharn/TabularData4LLM/.venv/lib/python3.12/site-packages/urllib3/connectionpool.py:1097: InsecureRequestWarning: Unverified HTTPS request is being made to host 'ngw.devices.sberbank.ru'. Adding certificate verification is strongly advised. See: https://urllib3.readthedocs.io/en/latest/advanced-usage.html#tls-warnings\n",
      "  warnings.warn(\n",
      " 68%|███████████████████████████████████████████████████████████████████████████████████████████████▉                                             | 68/100 [12:57<04:51,  9.10s/it]"
     ]
    },
    {
     "name": "stdout",
     "output_type": "stream",
     "text": [
      "An error occurred in Giga Module, f: async_ask_giga, e: 'choices'\n"
     ]
    },
    {
     "name": "stderr",
     "output_type": "stream",
     "text": [
      "/media/ntfs_disk/Pycharn/TabularData4LLM/.venv/lib/python3.12/site-packages/urllib3/connectionpool.py:1097: InsecureRequestWarning: Unverified HTTPS request is being made to host 'ngw.devices.sberbank.ru'. Adding certificate verification is strongly advised. See: https://urllib3.readthedocs.io/en/latest/advanced-usage.html#tls-warnings\n",
      "  warnings.warn(\n"
     ]
    },
    {
     "name": "stdout",
     "output_type": "stream",
     "text": [
      "An error occurred in Giga Module, f: async_ask_giga, e: 'choices'\n"
     ]
    },
    {
     "name": "stderr",
     "output_type": "stream",
     "text": [
      "/media/ntfs_disk/Pycharn/TabularData4LLM/.venv/lib/python3.12/site-packages/urllib3/connectionpool.py:1097: InsecureRequestWarning: Unverified HTTPS request is being made to host 'ngw.devices.sberbank.ru'. Adding certificate verification is strongly advised. See: https://urllib3.readthedocs.io/en/latest/advanced-usage.html#tls-warnings\n",
      "  warnings.warn(\n"
     ]
    },
    {
     "name": "stdout",
     "output_type": "stream",
     "text": [
      "An error occurred in Giga Module, f: async_ask_giga, e: 'choices'\n"
     ]
    },
    {
     "name": "stderr",
     "output_type": "stream",
     "text": [
      "/media/ntfs_disk/Pycharn/TabularData4LLM/.venv/lib/python3.12/site-packages/urllib3/connectionpool.py:1097: InsecureRequestWarning: Unverified HTTPS request is being made to host 'ngw.devices.sberbank.ru'. Adding certificate verification is strongly advised. See: https://urllib3.readthedocs.io/en/latest/advanced-usage.html#tls-warnings\n",
      "  warnings.warn(\n"
     ]
    },
    {
     "name": "stdout",
     "output_type": "stream",
     "text": [
      "An error occurred in Giga Module, f: async_ask_giga, e: 'choices'\n"
     ]
    },
    {
     "name": "stderr",
     "output_type": "stream",
     "text": [
      "/media/ntfs_disk/Pycharn/TabularData4LLM/.venv/lib/python3.12/site-packages/urllib3/connectionpool.py:1097: InsecureRequestWarning: Unverified HTTPS request is being made to host 'ngw.devices.sberbank.ru'. Adding certificate verification is strongly advised. See: https://urllib3.readthedocs.io/en/latest/advanced-usage.html#tls-warnings\n",
      "  warnings.warn(\n"
     ]
    },
    {
     "name": "stdout",
     "output_type": "stream",
     "text": [
      "An error occurred in Giga Module, f: async_ask_giga, e: 'choices'\n"
     ]
    },
    {
     "name": "stderr",
     "output_type": "stream",
     "text": [
      "/media/ntfs_disk/Pycharn/TabularData4LLM/.venv/lib/python3.12/site-packages/urllib3/connectionpool.py:1097: InsecureRequestWarning: Unverified HTTPS request is being made to host 'ngw.devices.sberbank.ru'. Adding certificate verification is strongly advised. See: https://urllib3.readthedocs.io/en/latest/advanced-usage.html#tls-warnings\n",
      "  warnings.warn(\n"
     ]
    },
    {
     "name": "stdout",
     "output_type": "stream",
     "text": [
      "An error occurred in Giga Module, f: async_ask_giga, e: 'choices'\n"
     ]
    },
    {
     "name": "stderr",
     "output_type": "stream",
     "text": [
      "/media/ntfs_disk/Pycharn/TabularData4LLM/.venv/lib/python3.12/site-packages/urllib3/connectionpool.py:1097: InsecureRequestWarning: Unverified HTTPS request is being made to host 'ngw.devices.sberbank.ru'. Adding certificate verification is strongly advised. See: https://urllib3.readthedocs.io/en/latest/advanced-usage.html#tls-warnings\n",
      "  warnings.warn(\n",
      " 86%|█████████████████████████████████████████████████████████████████████████████████████████████████████████████████████████▎                   | 86/100 [15:45<02:39, 11.41s/it]"
     ]
    },
    {
     "name": "stdout",
     "output_type": "stream",
     "text": [
      "An error occurred in Giga Module, f: async_ask_giga, e: 'choices'\n"
     ]
    },
    {
     "name": "stderr",
     "output_type": "stream",
     "text": [
      "/media/ntfs_disk/Pycharn/TabularData4LLM/.venv/lib/python3.12/site-packages/urllib3/connectionpool.py:1097: InsecureRequestWarning: Unverified HTTPS request is being made to host 'ngw.devices.sberbank.ru'. Adding certificate verification is strongly advised. See: https://urllib3.readthedocs.io/en/latest/advanced-usage.html#tls-warnings\n",
      "  warnings.warn(\n"
     ]
    },
    {
     "name": "stdout",
     "output_type": "stream",
     "text": [
      "An error occurred in Giga Module, f: async_ask_giga, e: 'choices'\n"
     ]
    },
    {
     "name": "stderr",
     "output_type": "stream",
     "text": [
      "/media/ntfs_disk/Pycharn/TabularData4LLM/.venv/lib/python3.12/site-packages/urllib3/connectionpool.py:1097: InsecureRequestWarning: Unverified HTTPS request is being made to host 'ngw.devices.sberbank.ru'. Adding certificate verification is strongly advised. See: https://urllib3.readthedocs.io/en/latest/advanced-usage.html#tls-warnings\n",
      "  warnings.warn(\n"
     ]
    },
    {
     "name": "stdout",
     "output_type": "stream",
     "text": [
      "An error occurred in Giga Module, f: async_ask_giga, e: 'choices'\n"
     ]
    },
    {
     "name": "stderr",
     "output_type": "stream",
     "text": [
      "/media/ntfs_disk/Pycharn/TabularData4LLM/.venv/lib/python3.12/site-packages/urllib3/connectionpool.py:1097: InsecureRequestWarning: Unverified HTTPS request is being made to host 'ngw.devices.sberbank.ru'. Adding certificate verification is strongly advised. See: https://urllib3.readthedocs.io/en/latest/advanced-usage.html#tls-warnings\n",
      "  warnings.warn(\n"
     ]
    },
    {
     "name": "stdout",
     "output_type": "stream",
     "text": [
      "An error occurred in Giga Module, f: async_ask_giga, e: 'choices'\n"
     ]
    },
    {
     "name": "stderr",
     "output_type": "stream",
     "text": [
      "/media/ntfs_disk/Pycharn/TabularData4LLM/.venv/lib/python3.12/site-packages/urllib3/connectionpool.py:1097: InsecureRequestWarning: Unverified HTTPS request is being made to host 'ngw.devices.sberbank.ru'. Adding certificate verification is strongly advised. See: https://urllib3.readthedocs.io/en/latest/advanced-usage.html#tls-warnings\n",
      "  warnings.warn(\n"
     ]
    },
    {
     "name": "stdout",
     "output_type": "stream",
     "text": [
      "An error occurred in Giga Module, f: async_ask_giga, e: 'choices'\n"
     ]
    },
    {
     "name": "stderr",
     "output_type": "stream",
     "text": [
      "/media/ntfs_disk/Pycharn/TabularData4LLM/.venv/lib/python3.12/site-packages/urllib3/connectionpool.py:1097: InsecureRequestWarning: Unverified HTTPS request is being made to host 'ngw.devices.sberbank.ru'. Adding certificate verification is strongly advised. See: https://urllib3.readthedocs.io/en/latest/advanced-usage.html#tls-warnings\n",
      "  warnings.warn(\n"
     ]
    },
    {
     "name": "stdout",
     "output_type": "stream",
     "text": [
      "An error occurred in Giga Module, f: async_ask_giga, e: 'choices'\n"
     ]
    },
    {
     "name": "stderr",
     "output_type": "stream",
     "text": [
      "/media/ntfs_disk/Pycharn/TabularData4LLM/.venv/lib/python3.12/site-packages/urllib3/connectionpool.py:1097: InsecureRequestWarning: Unverified HTTPS request is being made to host 'ngw.devices.sberbank.ru'. Adding certificate verification is strongly advised. See: https://urllib3.readthedocs.io/en/latest/advanced-usage.html#tls-warnings\n",
      "  warnings.warn(\n",
      " 94%|████████████████████████████████████████████████████████████████████████████████████████████████████████████████████████████████████▌        | 94/100 [17:40<01:37, 16.25s/it]"
     ]
    },
    {
     "name": "stdout",
     "output_type": "stream",
     "text": [
      "An error occurred in Giga Module, f: async_ask_giga, e: 'choices'\n"
     ]
    },
    {
     "name": "stderr",
     "output_type": "stream",
     "text": [
      "/media/ntfs_disk/Pycharn/TabularData4LLM/.venv/lib/python3.12/site-packages/urllib3/connectionpool.py:1097: InsecureRequestWarning: Unverified HTTPS request is being made to host 'ngw.devices.sberbank.ru'. Adding certificate verification is strongly advised. See: https://urllib3.readthedocs.io/en/latest/advanced-usage.html#tls-warnings\n",
      "  warnings.warn(\n"
     ]
    },
    {
     "name": "stdout",
     "output_type": "stream",
     "text": [
      "An error occurred in Giga Module, f: async_ask_giga, e: 'choices'\n"
     ]
    },
    {
     "name": "stderr",
     "output_type": "stream",
     "text": [
      "/media/ntfs_disk/Pycharn/TabularData4LLM/.venv/lib/python3.12/site-packages/urllib3/connectionpool.py:1097: InsecureRequestWarning: Unverified HTTPS request is being made to host 'ngw.devices.sberbank.ru'. Adding certificate verification is strongly advised. See: https://urllib3.readthedocs.io/en/latest/advanced-usage.html#tls-warnings\n",
      "  warnings.warn(\n"
     ]
    },
    {
     "name": "stdout",
     "output_type": "stream",
     "text": [
      "An error occurred in Giga Module, f: async_ask_giga, e: 'choices'\n"
     ]
    },
    {
     "name": "stderr",
     "output_type": "stream",
     "text": [
      "/media/ntfs_disk/Pycharn/TabularData4LLM/.venv/lib/python3.12/site-packages/urllib3/connectionpool.py:1097: InsecureRequestWarning: Unverified HTTPS request is being made to host 'ngw.devices.sberbank.ru'. Adding certificate verification is strongly advised. See: https://urllib3.readthedocs.io/en/latest/advanced-usage.html#tls-warnings\n",
      "  warnings.warn(\n"
     ]
    },
    {
     "name": "stdout",
     "output_type": "stream",
     "text": [
      "An error occurred in Giga Module, f: async_ask_giga, e: 'choices'\n"
     ]
    },
    {
     "name": "stderr",
     "output_type": "stream",
     "text": [
      "/media/ntfs_disk/Pycharn/TabularData4LLM/.venv/lib/python3.12/site-packages/urllib3/connectionpool.py:1097: InsecureRequestWarning: Unverified HTTPS request is being made to host 'ngw.devices.sberbank.ru'. Adding certificate verification is strongly advised. See: https://urllib3.readthedocs.io/en/latest/advanced-usage.html#tls-warnings\n",
      "  warnings.warn(\n"
     ]
    },
    {
     "name": "stdout",
     "output_type": "stream",
     "text": [
      "An error occurred in Giga Module, f: async_ask_giga, e: 'choices'\n"
     ]
    },
    {
     "name": "stderr",
     "output_type": "stream",
     "text": [
      "/media/ntfs_disk/Pycharn/TabularData4LLM/.venv/lib/python3.12/site-packages/urllib3/connectionpool.py:1097: InsecureRequestWarning: Unverified HTTPS request is being made to host 'ngw.devices.sberbank.ru'. Adding certificate verification is strongly advised. See: https://urllib3.readthedocs.io/en/latest/advanced-usage.html#tls-warnings\n",
      "  warnings.warn(\n"
     ]
    },
    {
     "name": "stdout",
     "output_type": "stream",
     "text": [
      "An error occurred in Giga Module, f: async_ask_giga, e: 'choices'\n"
     ]
    },
    {
     "name": "stderr",
     "output_type": "stream",
     "text": [
      "/media/ntfs_disk/Pycharn/TabularData4LLM/.venv/lib/python3.12/site-packages/urllib3/connectionpool.py:1097: InsecureRequestWarning: Unverified HTTPS request is being made to host 'ngw.devices.sberbank.ru'. Adding certificate verification is strongly advised. See: https://urllib3.readthedocs.io/en/latest/advanced-usage.html#tls-warnings\n",
      "  warnings.warn(\n",
      " 96%|███████████████████████████████████████████████████████████████████████████████████████████████████████████████████████████████████████▎     | 96/100 [18:01<00:53, 13.35s/it]"
     ]
    },
    {
     "name": "stdout",
     "output_type": "stream",
     "text": [
      "An error occurred in Giga Module, f: async_ask_giga, e: 'choices'\n"
     ]
    },
    {
     "name": "stderr",
     "output_type": "stream",
     "text": [
      "/media/ntfs_disk/Pycharn/TabularData4LLM/.venv/lib/python3.12/site-packages/urllib3/connectionpool.py:1097: InsecureRequestWarning: Unverified HTTPS request is being made to host 'ngw.devices.sberbank.ru'. Adding certificate verification is strongly advised. See: https://urllib3.readthedocs.io/en/latest/advanced-usage.html#tls-warnings\n",
      "  warnings.warn(\n"
     ]
    },
    {
     "name": "stdout",
     "output_type": "stream",
     "text": [
      "An error occurred in Giga Module, f: async_ask_giga, e: 'choices'\n"
     ]
    },
    {
     "name": "stderr",
     "output_type": "stream",
     "text": [
      "/media/ntfs_disk/Pycharn/TabularData4LLM/.venv/lib/python3.12/site-packages/urllib3/connectionpool.py:1097: InsecureRequestWarning: Unverified HTTPS request is being made to host 'ngw.devices.sberbank.ru'. Adding certificate verification is strongly advised. See: https://urllib3.readthedocs.io/en/latest/advanced-usage.html#tls-warnings\n",
      "  warnings.warn(\n"
     ]
    },
    {
     "name": "stdout",
     "output_type": "stream",
     "text": [
      "An error occurred in Giga Module, f: async_ask_giga, e: 'choices'\n"
     ]
    },
    {
     "name": "stderr",
     "output_type": "stream",
     "text": [
      "/media/ntfs_disk/Pycharn/TabularData4LLM/.venv/lib/python3.12/site-packages/urllib3/connectionpool.py:1097: InsecureRequestWarning: Unverified HTTPS request is being made to host 'ngw.devices.sberbank.ru'. Adding certificate verification is strongly advised. See: https://urllib3.readthedocs.io/en/latest/advanced-usage.html#tls-warnings\n",
      "  warnings.warn(\n"
     ]
    },
    {
     "name": "stdout",
     "output_type": "stream",
     "text": [
      "An error occurred in Giga Module, f: async_ask_giga, e: 'choices'\n"
     ]
    },
    {
     "name": "stderr",
     "output_type": "stream",
     "text": [
      "/media/ntfs_disk/Pycharn/TabularData4LLM/.venv/lib/python3.12/site-packages/urllib3/connectionpool.py:1097: InsecureRequestWarning: Unverified HTTPS request is being made to host 'ngw.devices.sberbank.ru'. Adding certificate verification is strongly advised. See: https://urllib3.readthedocs.io/en/latest/advanced-usage.html#tls-warnings\n",
      "  warnings.warn(\n"
     ]
    },
    {
     "name": "stdout",
     "output_type": "stream",
     "text": [
      "An error occurred in Giga Module, f: async_ask_giga, e: 'choices'\n"
     ]
    },
    {
     "name": "stderr",
     "output_type": "stream",
     "text": [
      "/media/ntfs_disk/Pycharn/TabularData4LLM/.venv/lib/python3.12/site-packages/urllib3/connectionpool.py:1097: InsecureRequestWarning: Unverified HTTPS request is being made to host 'ngw.devices.sberbank.ru'. Adding certificate verification is strongly advised. See: https://urllib3.readthedocs.io/en/latest/advanced-usage.html#tls-warnings\n",
      "  warnings.warn(\n"
     ]
    },
    {
     "name": "stdout",
     "output_type": "stream",
     "text": [
      "An error occurred in Giga Module, f: async_ask_giga, e: 'choices'\n"
     ]
    },
    {
     "name": "stderr",
     "output_type": "stream",
     "text": [
      "/media/ntfs_disk/Pycharn/TabularData4LLM/.venv/lib/python3.12/site-packages/urllib3/connectionpool.py:1097: InsecureRequestWarning: Unverified HTTPS request is being made to host 'ngw.devices.sberbank.ru'. Adding certificate verification is strongly advised. See: https://urllib3.readthedocs.io/en/latest/advanced-usage.html#tls-warnings\n",
      "  warnings.warn(\n",
      "100%|████████████████████████████████████████████████████████████████████████████████████████████████████████████████████████████████████████████| 100/100 [18:42<00:00, 11.22s/it]\n"
     ]
    }
   ],
   "source": [
    "import os\n",
    "import pickle \n",
    "from tqdm import tqdm\n",
    "\n",
    "from src.config import giga_config\n",
    "\n",
    "BATCH_SIZE=10\n",
    "mode = 'html'\n",
    "os.makedirs(f'results/{dataset}/{giga_config.GIGACHAT_MODEL}/{mode}', exist_ok=True)\n",
    "for start in tqdm(range(0, len(fact_dicts[:2000]), BATCH_SIZE)):\n",
    "    end = min(start + BATCH_SIZE, len(fact_dicts))\n",
    "    \n",
    "    statements = [x['statement'] for x in fact_dicts[start:end]]\n",
    "    labels = [x['label'] for x in fact_dicts[start:end]]\n",
    "    tables = [await get_formats(x, mode) for x in fact_dicts[start:end]]\n",
    "    \n",
    "    if statements:\n",
    "        tasks = [giga.async_ask_giga(human_message_template.format(table=table, statement=statement), prompt=CHOSEN_PROMPT) for table, statement in zip(tables, statements)]\n",
    "        results = await asyncio.gather(*tasks)\n",
    "        with open(f'results/{dataset}/{giga_config.GIGACHAT_MODEL}/{mode}/{start}_{end}.pkl', 'wb') as f:\n",
    "            pickle.dump(results, f)"
   ]
  },
  {
   "cell_type": "markdown",
   "id": "be31de21-a203-46c3-ac15-b2c8300c821d",
   "metadata": {},
   "source": [
    "### Metrics"
   ]
  },
  {
   "cell_type": "code",
   "execution_count": 8,
   "id": "95842d20-987f-4b3b-a0ec-9ba9a37840db",
   "metadata": {},
   "outputs": [],
   "source": [
    "import os\n",
    "import re\n",
    "import pickle "
   ]
  },
  {
   "cell_type": "code",
   "execution_count": 11,
   "id": "c2640a25-dff9-414e-ad72-98b95dd7af3a",
   "metadata": {},
   "outputs": [
    {
     "name": "stderr",
     "output_type": "stream",
     "text": [
      "100%|███████████████████████████████████████████████████████████████████████████████████████████████████████████████████████████████████████████| 100/100 [00:00<00:00, 630.40it/s]"
     ]
    },
    {
     "name": "stdout",
     "output_type": "stream",
     "text": [
      "709 0.38365800865800864 152\n"
     ]
    },
    {
     "name": "stderr",
     "output_type": "stream",
     "text": [
      "\n"
     ]
    }
   ],
   "source": [
    "i = 0\n",
    "\n",
    "tp_score = 0\n",
    "cnt_unparsed_answer = 0\n",
    "mode = 'html'\n",
    "\n",
    "base_file_path = f'results/{dataset}/{giga_config.GIGACHAT_MODEL}/{mode}'\n",
    "for start in tqdm(range(0, len(fact_dicts[:2000]), BATCH_SIZE)):\n",
    "    end = min(start + BATCH_SIZE, len(fact_dicts))\n",
    "    labels = [x['label'] for x in fact_dicts[start:end]]\n",
    "    with open(os.path.join(base_file_path, f\"{start}_{end}.pkl\"), 'rb') as f:\n",
    "        model_answers = pickle.load(f)\n",
    "    \n",
    "    res_on_batch = []\n",
    "    for case_answer in model_answers:\n",
    "        if not case_answer:\n",
    "            cnt_unparsed_answer += 1\n",
    "            res_on_batch.append(2)\n",
    "            continue\n",
    "        answer = re.search(r'([Ии]тоговый ответ: .*)|([Ff]inal [Aa]nswer: .*)' ,case_answer)\n",
    "        if answer:\n",
    "            answer = answer.group().split(\":\")[-1].strip()\n",
    "            res_on_batch.append(answer)\n",
    "        \n",
    "        else:\n",
    "            cnt_unparsed_answer += 1\n",
    "            res_on_batch.append(2)\n",
    "    \n",
    "    for predicted, gt in zip(res_on_batch, labels):\n",
    "        tp_score += predicted == str(gt)\n",
    "print(tp_score, tp_score/(2000-cnt_unparsed_answer), cnt_unparsed_answer)"
   ]
  }
 ],
 "metadata": {
  "kernelspec": {
   "display_name": "Python 3 (ipykernel)",
   "language": "python",
   "name": "python3"
  },
  "language_info": {
   "codemirror_mode": {
    "name": "ipython",
    "version": 3
   },
   "file_extension": ".py",
   "mimetype": "text/x-python",
   "name": "python",
   "nbconvert_exporter": "python",
   "pygments_lexer": "ipython3",
   "version": "3.12.3"
  }
 },
 "nbformat": 4,
 "nbformat_minor": 5
}
