{
 "cells": [
  {
   "cell_type": "code",
   "execution_count": 1,
   "id": "1af8d93a-7e38-47bc-b79d-09c294c35ea8",
   "metadata": {},
   "outputs": [],
   "source": [
    "import asyncio \n",
    "\n",
    "from src.llm.gigachat_class import GigaChat\n",
    "from src.llm.prompts import TAB_FACT_SYSTEM_PROMPT\n",
    "\n",
    "from src.utils.dataset_loader import load_tab_fact\n",
    "from src.utils.table_formatters import *"
   ]
  },
  {
   "cell_type": "markdown",
   "id": "ef92eb29-bd47-4a65-879b-b56f6a402843",
   "metadata": {},
   "source": [
    "### Model"
   ]
  },
  {
   "cell_type": "code",
   "execution_count": 2,
   "id": "383ee9b0-219f-4793-a9b6-eafe1c6edcd7",
   "metadata": {},
   "outputs": [
    {
     "name": "stderr",
     "output_type": "stream",
     "text": [
      "/media/ntfs_disk/Pycharn/TabularData4LLM/.venv/lib/python3.12/site-packages/urllib3/connectionpool.py:1097: InsecureRequestWarning: Unverified HTTPS request is being made to host 'ngw.devices.sberbank.ru'. Adding certificate verification is strongly advised. See: https://urllib3.readthedocs.io/en/latest/advanced-usage.html#tls-warnings\n",
      "  warnings.warn(\n"
     ]
    }
   ],
   "source": [
    "giga = GigaChat()"
   ]
  },
  {
   "cell_type": "markdown",
   "id": "ee11e509-b793-44ee-815e-a3bd70d3df45",
   "metadata": {},
   "source": [
    "### Data"
   ]
  },
  {
   "cell_type": "code",
   "execution_count": 3,
   "id": "278cbc71-e199-4946-bb7a-6755396e4c23",
   "metadata": {},
   "outputs": [],
   "source": [
    "async def get_formats(data_sample, mode):\n",
    "    headers, rows = data_sample['table']['header'], data_sample['table']['rows']\n",
    "    df_ = array_to_df(headers, rows)\n",
    "    html = convert_df_to_html(df_)\n",
    "    rst = await convert_html_to_list_table(html)\n",
    "    if mode == 'html':\n",
    "        return html\n",
    "    else:\n",
    "        return rst\n",
    "\n",
    "tabfact_data = load_tab_fact()['train']\n",
    "tabfact_dicts = []\n",
    "for i in tabfact_data:\n",
    "    d = {}\n",
    "    d.update(i)\n",
    "    tabfact_dicts.append(d)\n",
    "    \n",
    "human_message_template = \"\"\"\n",
    "Таблица: {table}\n",
    "Утверждение: {statement}\n",
    "\"\"\""
   ]
  },
  {
   "cell_type": "markdown",
   "id": "1f963834-f3e6-4a50-8e56-933684084f9e",
   "metadata": {},
   "source": [
    "### Eval"
   ]
  },
  {
   "cell_type": "code",
   "execution_count": 14,
   "id": "9a3b803a-aaa1-45f8-a2b0-04e9e254676f",
   "metadata": {},
   "outputs": [
    {
     "name": "stderr",
     "output_type": "stream",
     "text": [
      "100%|████████████████████████████████████████████████████████████████████████████████████████████████████████████████████████████████████████████| 200/200 [27:55<00:00,  8.38s/it]\n"
     ]
    }
   ],
   "source": [
    "import os\n",
    "import pickle \n",
    "from tqdm import tqdm\n",
    "\n",
    "from src.config import giga_config\n",
    "\n",
    "BATCH_SIZE=10\n",
    "mode = 'rst'\n",
    "os.makedirs(f'results/{giga_config.GIGACHAT_MODEL}/{mode}', exist_ok=True)\n",
    "for start in tqdm(range(0, len(tabfact_dicts[:2000]), BATCH_SIZE)):\n",
    "    end = min(start + BATCH_SIZE, len(tabfact_dicts))\n",
    "    \n",
    "    statements = [x['statement'] for x in tabfact_dicts[start:end]]\n",
    "    labels = [x['label'] for x in tabfact_dicts[start:end]]\n",
    "    tables = [await get_formats(x, mode) for x in tabfact_dicts[start:end]]\n",
    "    \n",
    "    if statements:\n",
    "        tasks = [giga.async_ask_giga(human_message_template.format(table=table, statement=statement), prompt=TAB_FACT_SYSTEM_PROMPT) for table, statement in zip(tables, statements)]\n",
    "        results = await asyncio.gather(*tasks)\n",
    "        with open(f'results/{giga_config.GIGACHAT_MODEL}/{mode}/{start}_{end}.pkl', 'wb') as f:\n",
    "            pickle.dump(results, f)"
   ]
  },
  {
   "cell_type": "markdown",
   "id": "be31de21-a203-46c3-ac15-b2c8300c821d",
   "metadata": {},
   "source": [
    "### Metrics"
   ]
  },
  {
   "cell_type": "code",
   "execution_count": 7,
   "id": "95842d20-987f-4b3b-a0ec-9ba9a37840db",
   "metadata": {},
   "outputs": [],
   "source": [
    "import os\n",
    "import re\n",
    "import pickle "
   ]
  },
  {
   "cell_type": "code",
   "execution_count": 18,
   "id": "c2640a25-dff9-414e-ad72-98b95dd7af3a",
   "metadata": {},
   "outputs": [
    {
     "name": "stderr",
     "output_type": "stream",
     "text": [
      "100%|██████████████████████████████████████████████████████████████████████████████████████████████████████████████████████████████████████████| 200/200 [00:00<00:00, 1381.70it/s]"
     ]
    },
    {
     "name": "stdout",
     "output_type": "stream",
     "text": [
      "1677 0.8393393393393394 2\n"
     ]
    },
    {
     "name": "stderr",
     "output_type": "stream",
     "text": [
      "\n"
     ]
    }
   ],
   "source": [
    "i = 0\n",
    "\n",
    "mode = 'rst'\n",
    "tp_score = 0\n",
    "cnt_unparsed_answer = 0\n",
    "\n",
    "base_file_path = f'results/{giga_config.GIGACHAT_MODEL}/{mode}'\n",
    "for start in tqdm(range(0, len(tabfact_dicts[:2000]), BATCH_SIZE)):\n",
    "    end = min(start + BATCH_SIZE, len(tabfact_dicts))\n",
    "    labels = [x['label'] for x in tabfact_dicts[start:end]]\n",
    "    with open(os.path.join(base_file_path, f\"{start}_{end}.pkl\"), 'rb') as f:\n",
    "        model_answers = pickle.load(f)\n",
    "    \n",
    "    res_on_batch = []\n",
    "    for case_answer in model_answers:\n",
    "        answer = re.search(r'([Ии]тоговый ответ: \\d)|([Ff]inal [Aa]nswer: \\d)' ,case_answer)\n",
    "        if answer:\n",
    "            answer = int(answer.group().split(\":\")[-1].strip())\n",
    "            res_on_batch.append(answer)\n",
    "        else:\n",
    "            cnt_unparsed_answer += 1\n",
    "            # print(case_answer)\n",
    "            # print('=== END ===')\n",
    "            res_on_batch.append(2)\n",
    "    \n",
    "    for predicted, gt in zip(res_on_batch, labels):\n",
    "        tp_score += predicted == gt\n",
    "print(tp_score, tp_score/(2000-cnt_unparsed_answer), cnt_unparsed_answer)"
   ]
  }
 ],
 "metadata": {
  "kernelspec": {
   "display_name": "Python 3 (ipykernel)",
   "language": "python",
   "name": "python3"
  },
  "language_info": {
   "codemirror_mode": {
    "name": "ipython",
    "version": 3
   },
   "file_extension": ".py",
   "mimetype": "text/x-python",
   "name": "python",
   "nbconvert_exporter": "python",
   "pygments_lexer": "ipython3",
   "version": "3.12.3"
  }
 },
 "nbformat": 4,
 "nbformat_minor": 5
}
